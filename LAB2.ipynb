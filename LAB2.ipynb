{
 "cells": [
  {
   "cell_type": "code",
   "execution_count": 1,
   "id": "2e820268",
   "metadata": {
    "scrolled": true
   },
   "outputs": [
    {
     "name": "stdout",
     "output_type": "stream",
     "text": [
      "Номер варіанту: 1\n"
     ]
    }
   ],
   "source": [
    "N = (6 + 4) % 5 + 1\n",
    "print(f\"Номер варіанту: {N}\")"
   ]
  },
  {
   "cell_type": "code",
   "execution_count": 2,
   "id": "516c7e4c",
   "metadata": {},
   "outputs": [
    {
     "name": "stdout",
     "output_type": "stream",
     "text": [
      "   Id       Name  Year Gender  Count\n",
      "0   1       Mary  1880      F   7065\n",
      "1   2       Anna  1880      F   2604\n",
      "2   3       Emma  1880      F   2003\n",
      "3   4  Elizabeth  1880      F   1939\n",
      "4   5     Minnie  1880      F   1746\n",
      "5   6   Margaret  1880      F   1578\n",
      "6   7        Ida  1880      F   1472\n",
      "7   8      Alice  1880      F   1414\n"
     ]
    }
   ],
   "source": [
    "# Task 1+\n",
    "\n",
    "import pandas as pd\n",
    "\n",
    "data = pd.read_csv(\"NationalNames.csv\")\n",
    "\n",
    "print(data.head(8))"
   ]
  },
  {
   "cell_type": "code",
   "execution_count": 3,
   "id": "0014c0e0",
   "metadata": {},
   "outputs": [
    {
     "name": "stdout",
     "output_type": "stream",
     "text": [
      "              Id     Name  Year Gender  Count\n",
      "1825425  1825426       Zo  2014      M      5\n",
      "1825426  1825427    Zyeir  2014      M      5\n",
      "1825427  1825428     Zyel  2014      M      5\n",
      "1825428  1825429   Zykeem  2014      M      5\n",
      "1825429  1825430   Zymeer  2014      M      5\n",
      "1825430  1825431  Zymiere  2014      M      5\n",
      "1825431  1825432    Zyran  2014      M      5\n",
      "1825432  1825433    Zyrin  2014      M      5\n"
     ]
    }
   ],
   "source": [
    "# Task 2+\n",
    "\n",
    "print(data.tail(8))"
   ]
  },
  {
   "cell_type": "code",
   "execution_count": 4,
   "id": "b684f162",
   "metadata": {},
   "outputs": [
    {
     "name": "stdout",
     "output_type": "stream",
     "text": [
      "Index(['Id', 'Name', 'Year', 'Gender', 'Count'], dtype='object')\n"
     ]
    }
   ],
   "source": [
    "# Task 3+\n",
    "\n",
    "print(data.columns)"
   ]
  },
  {
   "cell_type": "code",
   "execution_count": 5,
   "id": "3026fce1",
   "metadata": {},
   "outputs": [
    {
     "name": "stdout",
     "output_type": "stream",
     "text": [
      "Кількість унікальних імен: 93889\n"
     ]
    }
   ],
   "source": [
    "# Task 5+\n",
    "\n",
    "unique_names = data['Name'].nunique()\n",
    "print(f\"Кількість унікальних імен: {unique_names}\")"
   ]
  },
  {
   "cell_type": "code",
   "execution_count": 6,
   "id": "af72d6d7",
   "metadata": {},
   "outputs": [
    {
     "name": "stdout",
     "output_type": "stream",
     "text": [
      "Year\n",
      "1880    1889\n",
      "1881    1830\n",
      "1882    2012\n",
      "1883    1962\n",
      "1884    2158\n",
      "Name: Name, dtype: int64\n"
     ]
    }
   ],
   "source": [
    "# Task 10+\n",
    "\n",
    "unique_names_per_year = data.groupby('Year')['Name'].nunique()\n",
    "print(unique_names_per_year.head(5))"
   ]
  },
  {
   "cell_type": "code",
   "execution_count": 7,
   "id": "ee4de7ca",
   "metadata": {},
   "outputs": [
    {
     "name": "stdout",
     "output_type": "stream",
     "text": [
      "Рік з найбільшою кількістю унікальних імен: 2008\n"
     ]
    }
   ],
   "source": [
    "# task 11+\n",
    "\n",
    "year_max_unique = unique_names_per_year.idxmax()\n",
    "max_unique_count = unique_names_per_year.max()\n",
    "print(f\"Рік з найбільшою кількістю унікальних імен: {year_max_unique}\")\n"
   ]
  },
  {
   "cell_type": "code",
   "execution_count": 8,
   "id": "e0096a5c",
   "metadata": {},
   "outputs": [
    {
     "name": "stdout",
     "output_type": "stream",
     "text": [
      "Найпопулярніше ім'я Jacob\n"
     ]
    }
   ],
   "source": [
    "# task 12+\n",
    "\n",
    "most_unique_year = data[data['Year'] == year_max_unique]\n",
    "most_popular_name = most_unique_year.loc[most_unique_year['Count'].idxmax()]\n",
    "print(f\"Найпопулярніше ім'я {most_popular_name['Name']}\")\n"
   ]
  },
  {
   "cell_type": "code",
   "execution_count": 9,
   "id": "7070c288",
   "metadata": {},
   "outputs": [
    {
     "name": "stdout",
     "output_type": "stream",
     "text": [
      "2004\n"
     ]
    }
   ],
   "source": [
    "# Task 13+\n",
    "\n",
    "jacob_female = data[(data['Name'] == 'Jacob') & (data['Gender'] == 'F')]\n",
    "most_popular_jacob_year = jacob_female.loc[jacob_female['Count'].idxmax()]\n",
    "print(most_popular_jacob_year['Year'])"
   ]
  },
  {
   "cell_type": "code",
   "execution_count": 10,
   "id": "6f0e340c",
   "metadata": {},
   "outputs": [
    {
     "name": "stdout",
     "output_type": "stream",
     "text": [
      "Рік: 2008, Нейтлрально гендерних імен: 31734\n"
     ]
    }
   ],
   "source": [
    "# Task 14+\n",
    "\n",
    "gn_names = data[data.duplicated(subset='Name', keep=False)]\n",
    "gn_count = gn_names.groupby('Year')['Name'].nunique()\n",
    "year_max_gn = gn_count.idxmax()\n",
    "max_gn_count = gn_count.max()\n",
    "\n",
    "print(f\"Рік: {year_max_gn}, Нейтлрально гендерних імен: {max_gn_count}\")"
   ]
  },
  {
   "cell_type": "code",
   "execution_count": 11,
   "id": "8e977fc2",
   "metadata": {},
   "outputs": [
    {
     "name": "stdout",
     "output_type": "stream",
     "text": [
      "Year\n",
      "1880    201484\n",
      "1881    192699\n",
      "1882    221538\n",
      "1883    216950\n",
      "1884    243467\n",
      "Name: Count, dtype: int64\n"
     ]
    }
   ],
   "source": [
    "# Task 15+\n",
    "\n",
    "total_births_per_year = data.groupby('Year')['Count'].sum()\n",
    "print(total_births_per_year.head())"
   ]
  },
  {
   "cell_type": "code",
   "execution_count": 12,
   "id": "0b5720e4",
   "metadata": {},
   "outputs": [
    {
     "name": "stdout",
     "output_type": "stream",
     "text": [
      "Рік, коли народилося найбільше дітей: 1957\n"
     ]
    }
   ],
   "source": [
    "# Task 16+\n",
    "\n",
    "year_max_births = total_births_per_year.idxmax()\n",
    "max_births = total_births_per_year.max()\n",
    "print(f\"Рік, коли народилося найбільше дітей: {year_max_births}\")"
   ]
  },
  {
   "cell_type": "code",
   "execution_count": 13,
   "id": "00b87a83",
   "metadata": {},
   "outputs": [
    {
     "name": "stdout",
     "output_type": "stream",
     "text": [
      "Gender       F       M\n",
      "Year                  \n",
      "1880     90993  110491\n",
      "1881     91954  100745\n",
      "1882    107850  113688\n",
      "1883    112321  104629\n",
      "1884    129022  114445\n"
     ]
    }
   ],
   "source": [
    "# Task 17+\n",
    "\n",
    "births_by_gender = data.groupby(['Year', 'Gender'])['Count'].sum().unstack()\n",
    "print(births_by_gender.head())"
   ]
  },
  {
   "cell_type": "code",
   "execution_count": 14,
   "id": "2b53aff4",
   "metadata": {},
   "outputs": [
    {
     "name": "stdout",
     "output_type": "stream",
     "text": [
      "Кількість років, коли народжувалось більше дівчаток: 54\n"
     ]
    }
   ],
   "source": [
    "# Task 18+\n",
    "\n",
    "years_more_girls = (births_by_gender['F'] > births_by_gender['M']).sum()\n",
    "print(f\"Кількість років, коли народжувалось більше дівчаток: {years_more_girls}\")"
   ]
  },
  {
   "cell_type": "code",
   "execution_count": 15,
   "id": "12736c70",
   "metadata": {},
   "outputs": [
    {
     "name": "stdout",
     "output_type": "stream",
     "text": [
      "Хлопчиків із ім'ям 'Barbara': 4139\n"
     ]
    }
   ],
   "source": [
    "# Task 21+\n",
    "\n",
    "barbara_boys_count = data[(data['Name'] == 'Barbara') & (data['Gender'] == 'M')]['Count'].sum()\n",
    "print(f\"Хлопчиків із ім'ям 'Barbara': {barbara_boys_count}\")"
   ]
  },
  {
   "cell_type": "code",
   "execution_count": 16,
   "id": "2f88a527",
   "metadata": {},
   "outputs": [
    {
     "name": "stdout",
     "output_type": "stream",
     "text": [
      "Кількість років спостереження: 135\n"
     ]
    }
   ],
   "source": [
    "# Task 22+\n",
    "\n",
    "total_years = data['Year'].nunique()\n",
    "print(f\"Кількість років спостереження: {total_years}\")"
   ]
  },
  {
   "cell_type": "code",
   "execution_count": 17,
   "id": "28405b80",
   "metadata": {},
   "outputs": [
    {
     "name": "stdout",
     "output_type": "stream",
     "text": [
      "Гендерно-нейтральні імена, які присутні кожного року:\n",
      "['Francis', 'James', 'Jean', 'Jesse', 'Jessie', 'John', 'Johnnie', 'Joseph', 'Lee', 'Leslie', 'Marion', 'Ollie', 'Robert', 'Sidney', 'Tommie', 'William']\n"
     ]
    }
   ],
   "source": [
    "# Task 23+\n",
    "\n",
    "gender_counts = data.groupby('Name')['Gender'].nunique()\n",
    "neutral_names = gender_counts[gender_counts == 2].index\n",
    "\n",
    "yearly_gender_counts = data[data['Name'].isin(neutral_names)].groupby(['Name', 'Year'])['Gender'].nunique()\n",
    "years_neutral = yearly_gender_counts[yearly_gender_counts == 2].reset_index().groupby('Name')['Year'].nunique()\n",
    "\n",
    "total_years = data['Year'].nunique()\n",
    "consistent_neutral = years_neutral[years_neutral == total_years].index\n",
    "\n",
    "print(\"Гендерно-нейтральні імена, які присутні кожного року:\")\n",
    "print(list(consistent_neutral))\n"
   ]
  },
  {
   "cell_type": "code",
   "execution_count": 18,
   "id": "6d544a1d",
   "metadata": {
    "scrolled": true
   },
   "outputs": [
    {
     "name": "stdout",
     "output_type": "stream",
     "text": [
      "Найбільш популярне з непопулярних імен - це Celester. Їм називали 160 разів\n"
     ]
    }
   ],
   "source": [
    "# Task 24+\n",
    "\n",
    "unpopular = data[data['Count'] == data['Count'].min()]\n",
    "\n",
    "\n",
    "name_counts = unpopular.groupby('Name')['Count'].sum()\n",
    "\n",
    "\n",
    "max_name = name_counts.idxmax()\n",
    "max_count = name_counts[max_name]\n",
    "\n",
    "print(f\"Найбільш популярне з непопулярних імен - це {max_name}. Їм називали {max_count} разів\")"
   ]
  },
  {
   "cell_type": "code",
   "execution_count": 19,
   "id": "439568cb",
   "metadata": {},
   "outputs": [
    {
     "data": {
      "image/png": "[encoded data removed]",
      "text/plain": [
       "<Figure size 1000x600 with 1 Axes>"
      ]
     },
     "metadata": {},
     "output_type": "display_data"
    }
   ],
   "source": [
    "# Task 26+\n",
    "\n",
    "import matplotlib.pyplot as plt\n",
    "\n",
    "john_female = data[(data['Name'] == 'John') & (data['Gender'] == 'F')].groupby('Year')['Count'].sum()\n",
    "mary_male = data[(data['Name'] == 'Mary') & (data['Gender'] == 'M')].groupby('Year')['Count'].sum()\n",
    "\n",
    "plt.figure(figsize=(10, 6))\n",
    "\n",
    "plt.plot(john_female.index, john_female.values, label=\"John\", color='purple')\n",
    "plt.plot(mary_male.index, mary_male.values, label=\"Mary\", color='orange')\n",
    "\n",
    "plt.title(\"Розподіл жіночого імені 'John' та чоловічого 'Mary' за роками\")\n",
    "plt.xlabel(\"Рік\")\n",
    "plt.ylabel(\"Кількість\")\n",
    "plt.legend()\n",
    "plt.grid()\n",
    "plt.show()"
   ]
  },
  {
   "cell_type": "code",
   "execution_count": null,
   "id": "505e6df2",
   "metadata": {},
   "outputs": [],
   "source": []
  }
 ],
 "metadata": {
  "kernelspec": {
   "display_name": "Python 3 (ipykernel)",
   "language": "python",
   "name": "python3"
  },
  "language_info": {
   "codemirror_mode": {
    "name": "ipython",
    "version": 3
   },
   "file_extension": ".py",
   "mimetype": "text/x-python",
   "name": "python",
   "nbconvert_exporter": "python",
   "pygments_lexer": "ipython3",
   "version": "3.7.1"
  }
 },
 "nbformat": 4,
 "nbformat_minor": 5
}
